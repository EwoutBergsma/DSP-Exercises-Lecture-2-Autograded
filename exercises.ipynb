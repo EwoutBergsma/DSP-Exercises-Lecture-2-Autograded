{
 "cells": [
  {
   "cell_type": "markdown",
   "metadata": {},
   "source": [
    "# Exercises Lecture 2"
   ]
  },
  {
   "cell_type": "markdown",
   "metadata": {},
   "source": [
    "# Exercise 1\n",
    "Create a function called `get_sine_data()`. The function must take the following arguments:\n",
    "- frequency\n",
    "- amplitude\n",
    "- phase_shift\n",
    "- sample_rate\n",
    "- n_seconds (duration of the created signal)\n",
    "Make the function return both the time data and sine data in separate, 1D numpy arrays.\n",
    "\n",
    "The following packages are allowed:\n",
    "- numpy\n",
    "- matplotlib.pyplot\n",
    "\n",
    " You can use (some of) your code from the previous class."
   ]
  },
  {
   "cell_type": "code",
   "execution_count": null,
   "metadata": {},
   "outputs": [],
   "source": [
    "import numpy as np\n",
    "\n",
    "def get_sine_data(frequency, amplitude, phase_shift, sample_rate, n_seconds):\n",
    "    time = np.array([])  # Your code goes here, feel free to change or remove this as you wish.\n",
    "    sine = np.array([])  # Your code goes here, feel free to change or remove this as you wish.\n",
    "\n",
    "    return time, sine"
   ]
  },
  {
   "cell_type": "markdown",
   "metadata": {},
   "source": [
    "# Exercise 2\n",
    "Make your own function that does convolution, as was explained in class. You are not allowed to use `np.convolve()`. Call your function `my_convolution`, the function takes two arguments called `a` and `b`. Both of these are expected to be 1D numpy arrays. The function should return a 1D numpy array that is the convolution of `a` and `b`."
   ]
  },
  {
   "cell_type": "code",
   "execution_count": null,
   "metadata": {},
   "outputs": [],
   "source": []
  },
  {
   "cell_type": "markdown",
   "metadata": {},
   "source": [
    "# Exercise 3\n",
    "Download and display recorded data, using Python. Packages you can use:\n",
    "- `import numpy as np`\n",
    "- `import urllib.request` \n",
    "- `import matplotlib.pyplot as plt`\n",
    "- `from scipy.io import wavfile`\n",
    "- `from IPython import display`\n",
    "\n",
    "Note, the above packages are not included in the `requirements.txt`, so you may need to install them yourself.\n",
    "\n",
    "Hint, some useful functions:\n",
    "- `urllib.request.urlretrieve()`\n",
    "- `wavfile.read()`\n",
    "- `display.display(display.Audio(data=x, rate=fs))`  # For this one your mileage may vary. Put it at the end of a Jupyter Notebook code cell.\n",
    "\n",
    "\n",
    "Here is the url of the data: https://bigsoundbank.com/UPLOAD/wav/2776.wav\n",
    "\n",
    "\n",
    "As always, Googling and reading documentation is advised!"
   ]
  },
  {
   "cell_type": "code",
   "execution_count": null,
   "metadata": {},
   "outputs": [],
   "source": []
  }
 ],
 "metadata": {
  "kernelspec": {
   "display_name": "Python 3",
   "language": "python",
   "name": "python3"
  },
  "language_info": {
   "codemirror_mode": {
    "name": "ipython",
    "version": 3
   },
   "file_extension": ".py",
   "mimetype": "text/x-python",
   "name": "python",
   "nbconvert_exporter": "python",
   "pygments_lexer": "ipython3",
   "version": "3.11.2"
  },
  "orig_nbformat": 4
 },
 "nbformat": 4,
 "nbformat_minor": 2
}
